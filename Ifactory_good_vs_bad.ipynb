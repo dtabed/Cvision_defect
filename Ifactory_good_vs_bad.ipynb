{
 "cells": [
  {
   "cell_type": "code",
   "execution_count": 1,
   "metadata": {
    "scrolled": true
   },
   "outputs": [],
   "source": [
    "import cv2                 # working with, mainly resizing, images\n",
    "import numpy as np         # dealing with arrays\n",
    "import os                  # dealing with directories\n",
    "from random import shuffle # mixing up or currently ordered data that might lead our network astray in training.\n",
    "from tqdm import tqdm      # a nice pretty percentage bar for tasks. Thanks to viewer Daniel BA1/4hler for this suggestion"
   ]
  },
  {
   "cell_type": "code",
   "execution_count": 2,
   "metadata": {},
   "outputs": [
    {
     "name": "stdout",
     "output_type": "stream",
     "text": [
      "Looking in links: /cvmfs/soft.computecanada.ca/custom/python/wheelhouse/avx2, /cvmfs/soft.computecanada.ca/custom/python/wheelhouse/generic\r\n",
      "Requirement already satisfied: tqdm in /home/abed/jupyter_py3/lib/python3.6/site-packages (4.28.1)\r\n"
     ]
    }
   ],
   "source": [
    "!pip install tqdm"
   ]
  },
  {
   "cell_type": "code",
   "execution_count": 3,
   "metadata": {},
   "outputs": [],
   "source": [
    "TRAIN_DIR = 'train_n'\n",
    "GOOD_DIR = 'good_ash'\n",
    "BAD_DIR = 'bad_ash'\n",
    "TEST_DIR = 'final_test'\n",
    "IMG_SIZE = 224\n",
    "LR = 1e-3"
   ]
  },
  {
   "cell_type": "code",
   "execution_count": 4,
   "metadata": {},
   "outputs": [],
   "source": [
    "MODEL_NAME = 'dogsvscats-{}-{}.model'.format(LR, '2conv-basic') # just so we remember which saved model is which, sizes must match\n"
   ]
  },
  {
   "cell_type": "code",
   "execution_count": 5,
   "metadata": {},
   "outputs": [],
   "source": [
    "def create_train_data():\n",
    "    training_data = []\n",
    "    \n",
    "    for img in tqdm(os.listdir(GOOD_DIR)):\n",
    "        label = [1.0,0.0] # 'good'\n",
    "        path = os.path.join(GOOD_DIR,img)\n",
    "        img = cv2.imread(path,cv2.IMREAD_GRAYSCALE)\n",
    "        img = cv2.resize(img, (IMG_SIZE,IMG_SIZE))\n",
    "        training_data.append([np.array(img),np.array(label)])\n",
    "    \n",
    "    for img in tqdm(os.listdir(BAD_DIR)):\n",
    "        label = [0.0,1.0] #'bad'\n",
    "        path = os.path.join(BAD_DIR,img)\n",
    "        img = cv2.imread(path,cv2.IMREAD_GRAYSCALE)\n",
    "        img = cv2.resize(img, (IMG_SIZE,IMG_SIZE))\n",
    "        training_data.append([np.array(img),np.array(label)])\n",
    "    \n",
    "    shuffle(training_data)\n",
    "    np.save('train_data.npy', training_data)\n",
    "    \n",
    "    return training_data"
   ]
  },
  {
   "cell_type": "code",
   "execution_count": 6,
   "metadata": {},
   "outputs": [],
   "source": [
    "def process_test_data():\n",
    "    testing_data = []\n",
    "    for img in tqdm(os.listdir(TEST_DIR)):\n",
    "        path = os.path.join(TEST_DIR,img)\n",
    "        img_num = img.split('.')[0]\n",
    "        img = cv2.imread(path,cv2.IMREAD_GRAYSCALE)\n",
    "        img = cv2.resize(img, (IMG_SIZE,IMG_SIZE))\n",
    "        testing_data.append([np.array(img), img_num])\n",
    "        \n",
    "    shuffle(testing_data)\n",
    "    np.save('test_data.npy', testing_data)"
   ]
  },
  {
   "cell_type": "code",
   "execution_count": 7,
   "metadata": {},
   "outputs": [
    {
     "name": "stderr",
     "output_type": "stream",
     "text": [
      "100%|██████████| 324/324 [00:05<00:00, 56.96it/s]\n",
      "100%|██████████| 322/322 [00:05<00:00, 55.60it/s]\n"
     ]
    }
   ],
   "source": [
    "train_data = create_train_data()\n",
    "#test_data = process_test_data()\n",
    "# If you have already created the dataset:\n",
    "#train_data = np.load('train_data.npy')"
   ]
  },
  {
   "cell_type": "code",
   "execution_count": 12,
   "metadata": {},
   "outputs": [
    {
     "name": "stdout",
     "output_type": "stream",
     "text": [
      "Looking in links: /cvmfs/soft.computecanada.ca/custom/python/wheelhouse/avx2, /cvmfs/soft.computecanada.ca/custom/python/wheelhouse/generic\n",
      "Requirement already satisfied: tflearn in /home/abed/jupyter_py3/lib/python3.6/site-packages (0.3.2)\n",
      "Requirement already satisfied: numpy in /home/abed/jupyter_py3/lib/python3.6/site-packages (from tflearn) (1.15.2)\n",
      "Requirement already satisfied: six in /home/abed/jupyter_py3/lib/python3.6/site-packages (from tflearn) (1.11.0)\n",
      "Requirement already satisfied: Pillow in /home/abed/jupyter_py3/lib/python3.6/site-packages (from tflearn) (5.3.0)\n"
     ]
    }
   ],
   "source": [
    "!pip install tflearn"
   ]
  },
  {
   "cell_type": "code",
   "execution_count": 13,
   "metadata": {},
   "outputs": [
    {
     "name": "stdout",
     "output_type": "stream",
     "text": [
      "Looking in links: /cvmfs/soft.computecanada.ca/custom/python/wheelhouse/avx2, /cvmfs/soft.computecanada.ca/custom/python/wheelhouse/generic\n",
      "Requirement already satisfied: tensorflow_cpu in /home/abed/jupyter_py3/lib/python3.6/site-packages (1.12.0+computecanada)\n",
      "Requirement already satisfied: keras-preprocessing>=1.0.5 in /home/abed/jupyter_py3/lib/python3.6/site-packages (from tensorflow_cpu) (1.0.5)\n",
      "Requirement already satisfied: wheel>=0.26 in /home/abed/jupyter_py3/lib/python3.6/site-packages (from tensorflow_cpu) (0.32.3)\n",
      "Requirement already satisfied: six>=1.10.0 in /home/abed/jupyter_py3/lib/python3.6/site-packages (from tensorflow_cpu) (1.11.0)\n",
      "Requirement already satisfied: protobuf>=3.6.1 in /home/abed/jupyter_py3/lib/python3.6/site-packages (from tensorflow_cpu) (3.6.1)\n",
      "Requirement already satisfied: astor>=0.6.0 in /home/abed/jupyter_py3/lib/python3.6/site-packages (from tensorflow_cpu) (0.7.1)\n",
      "Requirement already satisfied: grpcio>=1.8.6 in /home/abed/jupyter_py3/lib/python3.6/site-packages (from tensorflow_cpu) (1.17.1)\n",
      "Requirement already satisfied: tensorboard<1.13.0,>=1.12.0 in /home/abed/jupyter_py3/lib/python3.6/site-packages (from tensorflow_cpu) (1.12.1)\n",
      "Requirement already satisfied: termcolor>=1.1.0 in /home/abed/jupyter_py3/lib/python3.6/site-packages (from tensorflow_cpu) (1.1.0)\n",
      "Requirement already satisfied: numpy>=1.13.3 in /home/abed/jupyter_py3/lib/python3.6/site-packages (from tensorflow_cpu) (1.15.2)\n",
      "Requirement already satisfied: keras-applications>=1.0.6 in /home/abed/jupyter_py3/lib/python3.6/site-packages (from tensorflow_cpu) (1.0.6)\n",
      "Requirement already satisfied: gast>=0.2.0 in /home/abed/jupyter_py3/lib/python3.6/site-packages (from tensorflow_cpu) (0.2.0)\n",
      "Requirement already satisfied: absl-py>=0.1.6 in /home/abed/jupyter_py3/lib/python3.6/site-packages (from tensorflow_cpu) (0.6.1)\n",
      "Requirement already satisfied: setuptools in /home/abed/jupyter_py3/lib/python3.6/site-packages (from protobuf>=3.6.1->tensorflow_cpu) (40.6.3)\n",
      "Requirement already satisfied: werkzeug>=0.11.10 in /home/abed/jupyter_py3/lib/python3.6/site-packages (from tensorboard<1.13.0,>=1.12.0->tensorflow_cpu) (0.14.1)\n",
      "Requirement already satisfied: markdown>=2.6.8 in /home/abed/jupyter_py3/lib/python3.6/site-packages (from tensorboard<1.13.0,>=1.12.0->tensorflow_cpu) (3.0.1)\n",
      "Requirement already satisfied: h5py in /home/abed/jupyter_py3/lib/python3.6/site-packages (from keras-applications>=1.0.6->tensorflow_cpu) (2.8.0)\n"
     ]
    }
   ],
   "source": [
    " !pip install tensorflow_cpu\n"
   ]
  },
  {
   "cell_type": "code",
   "execution_count": 14,
   "metadata": {},
   "outputs": [
    {
     "name": "stdout",
     "output_type": "stream",
     "text": [
      "Looking in links: /cvmfs/soft.computecanada.ca/custom/python/wheelhouse/avx2, /cvmfs/soft.computecanada.ca/custom/python/wheelhouse/generic\n",
      "Requirement already up-to-date: tflearn in /home/abed/jupyter_py3/lib/python3.6/site-packages (0.3.2)\n",
      "Requirement already satisfied, skipping upgrade: numpy in /home/abed/jupyter_py3/lib/python3.6/site-packages (from tflearn) (1.15.2)\n",
      "Requirement already satisfied, skipping upgrade: Pillow in /home/abed/jupyter_py3/lib/python3.6/site-packages (from tflearn) (5.3.0)\n",
      "Requirement already satisfied, skipping upgrade: six in /home/abed/jupyter_py3/lib/python3.6/site-packages (from tflearn) (1.11.0)\n"
     ]
    }
   ],
   "source": [
    "!pip install --upgrade tflearn "
   ]
  },
  {
   "cell_type": "code",
   "execution_count": 15,
   "metadata": {},
   "outputs": [
    {
     "name": "stdout",
     "output_type": "stream",
     "text": [
      "WARNING:tensorflow:From /home/abed/jupyter_py3/lib/python3.6/site-packages/tflearn/initializations.py:119: UniformUnitScaling.__init__ (from tensorflow.python.ops.init_ops) is deprecated and will be removed in a future version.\n",
      "Instructions for updating:\n",
      "Use tf.initializers.variance_scaling instead with distribution=uniform to get equivalent behavior.\n",
      "WARNING:tensorflow:From /home/abed/jupyter_py3/lib/python3.6/site-packages/tflearn/objectives.py:66: calling reduce_sum (from tensorflow.python.ops.math_ops) with keep_dims is deprecated and will be removed in a future version.\n",
      "Instructions for updating:\n",
      "keep_dims is deprecated, use keepdims instead\n"
     ]
    }
   ],
   "source": [
    "import tflearn\n",
    "from tflearn.layers.conv import conv_2d, max_pool_2d\n",
    "from tflearn.layers.core import input_data, dropout, fully_connected\n",
    "from tflearn.layers.estimator import regression\n",
    "\n",
    "convnet = input_data(shape=[None, IMG_SIZE, IMG_SIZE, 1], name='input')\n",
    "\n",
    "convnet = conv_2d(convnet, 32, 5, activation='relu')\n",
    "convnet = max_pool_2d(convnet, 5)\n",
    "\n",
    "convnet = conv_2d(convnet, 64, 5, activation='relu')\n",
    "convnet = max_pool_2d(convnet, 5)\n",
    "\n",
    "convnet = fully_connected(convnet, 1024, activation='relu')\n",
    "convnet = dropout(convnet, 0.8)\n",
    "\n",
    "convnet = fully_connected(convnet, 2, activation='softmax')\n",
    "convnet = regression(convnet, optimizer='adam', learning_rate=LR, loss='categorical_crossentropy', name='targets')\n",
    "\n",
    "model = tflearn.DNN(convnet, tensorboard_dir='log')"
   ]
  },
  {
   "cell_type": "code",
   "execution_count": 16,
   "metadata": {},
   "outputs": [],
   "source": [
    "if os.path.exists('{}.meta'.format(MODEL_NAME)):\n",
    "    model.load(MODEL_NAME)\n",
    "    print('model loaded!')"
   ]
  },
  {
   "cell_type": "code",
   "execution_count": 17,
   "metadata": {},
   "outputs": [],
   "source": [
    "train = train_data[:-10]\n",
    "test = train_data[-10:]"
   ]
  },
  {
   "cell_type": "code",
   "execution_count": 18,
   "metadata": {},
   "outputs": [],
   "source": [
    "X = np.array([i[0] for i in train]).reshape(-1,IMG_SIZE,IMG_SIZE,1)\n",
    "Y = [i[1] for i in train]\n",
    "\n",
    "test_x = np.array([i[0] for i in test]).reshape(-1,IMG_SIZE,IMG_SIZE,1)\n",
    "test_y = [i[1] for i in test]"
   ]
  },
  {
   "cell_type": "code",
   "execution_count": 19,
   "metadata": {},
   "outputs": [
    {
     "name": "stdout",
     "output_type": "stream",
     "text": [
      "Training Step: 9  | total loss: \u001b[1m\u001b[32m11.58082\u001b[0m\u001b[0m | time: 29.503s\n",
      "| Adam | epoch: 001 | loss: 11.58082 - acc: 0.4970 -- iter: 576/636\n",
      "Training Step: 10  | total loss: \u001b[1m\u001b[32m11.90665\u001b[0m\u001b[0m | time: 34.845s\n",
      "| Adam | epoch: 001 | loss: 11.90665 - acc: 0.4829 | val_loss: 9.21034 - val_acc: 0.6000 -- iter: 636/636\n",
      "--\n"
     ]
    }
   ],
   "source": [
    "model.fit({'input': X}, {'targets': Y}, n_epoch=1, validation_set=({'input': test_x}, {'targets': test_y}), \n",
    "    snapshot_step=10, show_metric=True, run_id=MODEL_NAME)"
   ]
  },
  {
   "cell_type": "markdown",
   "metadata": {},
   "source": [
    "#the End of model 1"
   ]
  },
  {
   "cell_type": "code",
   "execution_count": 20,
   "metadata": {},
   "outputs": [],
   "source": [
    "krl = 3\n",
    "drp_out_per = 0.2\n",
    "epoc_n = 10"
   ]
  },
  {
   "cell_type": "code",
   "execution_count": 21,
   "metadata": {},
   "outputs": [],
   "source": [
    "import tensorflow as tf\n",
    "\n",
    "\n",
    "tf.reset_default_graph()\n",
    "convnet = input_data(shape=[None, IMG_SIZE, IMG_SIZE, 1], name='input')\n",
    "\n",
    "convnet = conv_2d(convnet, 32, krl, activation='relu')\n",
    "convnet = max_pool_2d(convnet, krl)\n",
    "#convnet = dropout(convnet, drp_out_per)\n",
    "\n",
    "convnet = conv_2d(convnet, 64, krl, activation='relu')\n",
    "convnet = max_pool_2d(convnet, krl)\n",
    "#convnet = dropout(convnet, drp_out_per)\n",
    "\n",
    "convnet = conv_2d(convnet, 128, krl, activation='relu')\n",
    "convnet = max_pool_2d(convnet, krl)\n",
    "#convnet = dropout(convnet, drp_out_per)\n",
    "\n",
    "convnet = conv_2d(convnet, 256, krl, activation='relu') #32\n",
    "convnet = max_pool_2d(convnet, krl)\n",
    "#convnet = dropout(convnet, drp_out_per)\n",
    "\n",
    "convnet = conv_2d(convnet, 512, krl, activation='relu') #64\n",
    "convnet = max_pool_2d(convnet, krl)\n",
    "#convnet = dropout(convnet, drp_out_per)\n",
    "\n",
    "convnet = fully_connected(convnet, 1024, activation='relu')\n",
    "convnet = dropout(convnet, drp_out_per)\n",
    "\n",
    "convnet = fully_connected(convnet, 2, activation='softmax')\n",
    "convnet = regression(convnet, optimizer='adam', learning_rate=LR, loss='categorical_crossentropy', name='targets')\n",
    "\n",
    "model = tflearn.DNN(convnet, tensorboard_dir='log')\n",
    "\n",
    "\n"
   ]
  },
  {
   "cell_type": "code",
   "execution_count": null,
   "metadata": {},
   "outputs": [
    {
     "name": "stdout",
     "output_type": "stream",
     "text": [
      "---------------------------------\n",
      "Run id: dogsvscats-0.001-2conv-basic.model\n",
      "Log directory: log/\n",
      "INFO:tensorflow:Summary name Accuracy/ (raw) is illegal; using Accuracy/__raw_ instead.\n",
      "---------------------------------\n",
      "Training samples: 636\n",
      "Validation samples: 10\n",
      "--\n"
     ]
    }
   ],
   "source": [
    "if os.path.exists('{}.meta'.format(MODEL_NAME)):\n",
    "    model.load(MODEL_NAME)\n",
    "    print('model loaded!')\n",
    "\n",
    "train = train_data[:-10]\n",
    "test = train_data[-10:]\n",
    "\n",
    "X = np.array([i[0] for i in train]).reshape(-1,IMG_SIZE,IMG_SIZE,1)\n",
    "Y = [i[1] for i in train]\n",
    "\n",
    "test_x = np.array([i[0] for i in test]).reshape(-1,IMG_SIZE,IMG_SIZE,1)\n",
    "test_y = [i[1] for i in test]\n",
    "\n",
    "model.fit({'input': X}, {'targets': Y}, n_epoch=epoc_n, validation_set=({'input': test_x}, {'targets': test_y}), \n",
    "    snapshot_step=500, show_metric=True, run_id=MODEL_NAME)"
   ]
  },
  {
   "cell_type": "code",
   "execution_count": null,
   "metadata": {},
   "outputs": [],
   "source": []
  }
 ],
 "metadata": {
  "kernelspec": {
   "display_name": "Python 3.5 Kernel",
   "language": "python",
   "name": "abed"
  },
  "language_info": {
   "codemirror_mode": {
    "name": "ipython",
    "version": 3
   },
   "file_extension": ".py",
   "mimetype": "text/x-python",
   "name": "python",
   "nbconvert_exporter": "python",
   "pygments_lexer": "ipython3",
   "version": "3.6.3"
  }
 },
 "nbformat": 4,
 "nbformat_minor": 2
}
